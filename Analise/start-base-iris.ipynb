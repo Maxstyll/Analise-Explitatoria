{
 "cells": [
  {
   "cell_type": "code",
   "execution_count": null,
   "metadata": {},
   "outputs": [],
   "source": [
    "import pandas as pd\n",
    "import matplotlib.pyplot as plt\n",
    "\n",
    "from sklearn.datasets import load_iris"
   ]
  },
  {
   "cell_type": "code",
   "execution_count": null,
   "metadata": {},
   "outputs": [],
   "source": [
    "iris = load_iris()\n",
    "iris"
   ]
  },
  {
   "cell_type": "code",
   "execution_count": null,
   "metadata": {},
   "outputs": [],
   "source": [
    "iris_df = pd.DataFrame(data=iris.data, columns=iris.feature_names)\n",
    "iris_df['target'] = iris.target\n",
    "iris_df.head()"
   ]
  },
  {
   "cell_type": "code",
   "execution_count": null,
   "metadata": {},
   "outputs": [],
   "source": [
    "# Calcular média, mediana, desvio padrão para as colunas\n",
    "resumo_estatistico = iris_df.describe()\n",
    "\n",
    "# Calcular moda separadamente, pois describe() não inclui\n",
    "moda = iris_df.mode().iloc[0]\n",
    "\n",
    "# Adicional a moda ao DataFrame de resumo estatístico\n",
    "resumo_estatistico.loc[\"moda\"] = moda\n",
    "\n",
    "print(\"Mértodos de resumo estatisticos para o conjunto de dados ïris\")\n",
    "print(resumo_estatistico)"
   ]
  },
  {
   "cell_type": "code",
   "execution_count": null,
   "metadata": {},
   "outputs": [],
   "source": [
    "iris_hit_df = iris_df.drop(['target'], axis=1)\n",
    "iris_hit_df.head()"
   ]
  },
  {
   "cell_type": "code",
   "execution_count": null,
   "metadata": {},
   "outputs": [],
   "source": [
    "assimetria = iris_hit_df.skew()\n",
    "\n",
    "plt.figure(figsize=(12, 8))\n",
    "\n",
    "for i, col in enumerate(iris_hit_df.columns):\n",
    "    plt.subplot(2,2, i + 1)\n",
    "    plt.hist(iris_hit_df[col], bins=20, color='skyblue', edgecolor='black', alpha=0.7)\n",
    "    plt.title(col)\n",
    "    plt.xlabel('Valores')\n",
    "    plt.ylabel('Frequencia')\n",
    "    plt.grid(True)\n",
    "\n",
    "\n",
    "for i, col in enumerate(iris_hit_df.columns):\n",
    "    plt.text(0.95, .085 - i*0.2, \n",
    "             'Assimetria: {:.2f}'.format(assimetria[col]),\n",
    "             horizontalalignment='right',\n",
    "             verticalalignment='center',\n",
    "             transform=plt.gca().transAxes\n",
    "             )\n",
    "\n",
    "plt.tight_layout()\n",
    "plt.show()"
   ]
  },
  {
   "cell_type": "code",
   "execution_count": null,
   "metadata": {},
   "outputs": [],
   "source": [
    "iris_hit_df = iris_df[iris_df[\"target\"] == 0]\n",
    "iris_hit_df = iris_hit_df.drop(['target'], axis=1)\n",
    "\n",
    "assimetria = iris_hit_df.skew()\n",
    "\n",
    "plt.figure(figsize=(12, 8))\n",
    "\n",
    "for i, col in enumerate(iris_hit_df.columns):\n",
    "    plt.subplot(2,2, i + 1)\n",
    "    plt.hist(iris_hit_df[col], bins=20, color='skyblue', edgecolor='black', alpha=0.7)\n",
    "    plt.title(col)\n",
    "    plt.xlabel('Valores')\n",
    "    plt.ylabel('Frequencia')\n",
    "    plt.grid(True)\n",
    "\n",
    "\n",
    "for i, col in enumerate(iris_hit_df.columns):\n",
    "    plt.text(0.95, .085 - i*0.2, \n",
    "             'Assimetria: {:.2f}'.format(assimetria[col]),\n",
    "             horizontalalignment='right',\n",
    "             verticalalignment='center',\n",
    "             transform=plt.gca().transAxes\n",
    "             )\n",
    "\n",
    "plt.tight_layout()\n",
    "plt.show()"
   ]
  },
  {
   "cell_type": "code",
   "execution_count": null,
   "metadata": {},
   "outputs": [],
   "source": [
    "iris_hit_df = iris_df[iris_df[\"target\"] == 1]\n",
    "iris_hit_df = iris_hit_df.drop(['target'], axis=1)\n",
    "\n",
    "assimetria = iris_hit_df.skew()\n",
    "\n",
    "plt.figure(figsize=(12, 8))\n",
    "\n",
    "for i, col in enumerate(iris_hit_df.columns):\n",
    "    plt.subplot(2,2, i + 1)\n",
    "    plt.hist(iris_hit_df[col], bins=20, color='skyblue', edgecolor='black', alpha=0.7)\n",
    "    plt.title(col)\n",
    "    plt.xlabel('Valores')\n",
    "    plt.ylabel('Frequencia')\n",
    "    plt.grid(True)\n",
    "\n",
    "\n",
    "for i, col in enumerate(iris_hit_df.columns):\n",
    "    plt.text(0.95, .085 - i*0.2, \n",
    "             'Assimetria: {:.2f}'.format(assimetria[col]),\n",
    "             horizontalalignment='right',\n",
    "             verticalalignment='center',\n",
    "             transform=plt.gca().transAxes\n",
    "             )\n",
    "\n",
    "plt.tight_layout()\n",
    "plt.show()"
   ]
  },
  {
   "cell_type": "code",
   "execution_count": null,
   "metadata": {},
   "outputs": [],
   "source": [
    "iris_hit_df = iris_df[iris_df[\"target\"] == 2]\n",
    "iris_hit_df = iris_hit_df.drop(['target'], axis=1)\n",
    "\n",
    "assimetria = iris_hit_df.skew()\n",
    "\n",
    "plt.figure(figsize=(12, 8))\n",
    "\n",
    "for i, col in enumerate(iris_hit_df.columns):\n",
    "    plt.subplot(2,2, i + 1)\n",
    "    plt.hist(iris_hit_df[col], bins=20, color='skyblue', edgecolor='black', alpha=0.7)\n",
    "    plt.title(col)\n",
    "    plt.xlabel('Valores')\n",
    "    plt.ylabel('Frequencia')\n",
    "    plt.grid(True)\n",
    "\n",
    "\n",
    "for i, col in enumerate(iris_hit_df.columns):\n",
    "    plt.text(0.95, .085 - i*0.2, \n",
    "             'Assimetria: {:.2f}'.format(assimetria[col]),\n",
    "             horizontalalignment='right',\n",
    "             verticalalignment='center',\n",
    "             transform=plt.gca().transAxes\n",
    "             )\n",
    "\n",
    "plt.tight_layout()\n",
    "plt.show()"
   ]
  }
 ],
 "metadata": {
  "kernelspec": {
   "display_name": "v-analise",
   "language": "python",
   "name": "python3"
  },
  "language_info": {
   "codemirror_mode": {
    "name": "ipython",
    "version": 3
   },
   "file_extension": ".py",
   "mimetype": "text/x-python",
   "name": "python",
   "nbconvert_exporter": "python",
   "pygments_lexer": "ipython3",
   "version": "3.11.4"
  }
 },
 "nbformat": 4,
 "nbformat_minor": 2
}
